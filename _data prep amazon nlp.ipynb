{
 "cells": [
  {
   "cell_type": "code",
   "execution_count": 9,
   "metadata": {
    "id": "oL-9Ih-R2yLA"
   },
   "outputs": [],
   "source": [
    "import numpy as np\n",
    "import pandas as pd\n",
    "import matplotlib.pyplot as plt\n",
    "import spacy\n",
    "import seaborn as sns\n",
    "import time"
   ]
  },
  {
   "cell_type": "code",
   "execution_count": 2,
   "metadata": {
    "id": "no5c6uqaOGXB"
   },
   "outputs": [],
   "source": [
    "from sklearn.model_selection import train_test_split\n",
    "from sklearn.pipeline import Pipeline\n",
    "from sklearn.metrics import classification_report\n",
    "from sklearn.metrics import confusion_matrix\n",
    "from sklearn.naive_bayes import MultinomialNB\n",
    "from sklearn.feature_extraction.text import TfidfVectorizer\n",
    "import warnings\n",
    "warnings.filterwarnings(\"ignore\")\n",
    "from imblearn.over_sampling import SMOTE"
   ]
  },
  {
   "cell_type": "code",
   "execution_count": 3,
   "metadata": {
    "scrolled": true
   },
   "outputs": [
    {
     "name": "stdout",
     "output_type": "stream",
     "text": [
      "Collecting en-core-web-lg==3.5.0\n",
      "  Downloading https://github.com/explosion/spacy-models/releases/download/en_core_web_lg-3.5.0/en_core_web_lg-3.5.0-py3-none-any.whl (587.7 MB)\n",
      "Requirement already satisfied: spacy<3.6.0,>=3.5.0 in c:\\users\\soham\\anaconda3\\lib\\site-packages (from en-core-web-lg==3.5.0) (3.5.3)\n",
      "Requirement already satisfied: setuptools in c:\\users\\soham\\anaconda3\\lib\\site-packages (from spacy<3.6.0,>=3.5.0->en-core-web-lg==3.5.0) (61.2.0)\n",
      "Requirement already satisfied: spacy-legacy<3.1.0,>=3.0.11 in c:\\users\\soham\\anaconda3\\lib\\site-packages (from spacy<3.6.0,>=3.5.0->en-core-web-lg==3.5.0) (3.0.12)\n",
      "Requirement already satisfied: murmurhash<1.1.0,>=0.28.0 in c:\\users\\soham\\anaconda3\\lib\\site-packages (from spacy<3.6.0,>=3.5.0->en-core-web-lg==3.5.0) (1.0.9)\n",
      "Requirement already satisfied: langcodes<4.0.0,>=3.2.0 in c:\\users\\soham\\anaconda3\\lib\\site-packages (from spacy<3.6.0,>=3.5.0->en-core-web-lg==3.5.0) (3.3.0)\n",
      "Requirement already satisfied: requests<3.0.0,>=2.13.0 in c:\\users\\soham\\anaconda3\\lib\\site-packages (from spacy<3.6.0,>=3.5.0->en-core-web-lg==3.5.0) (2.27.1)\n",
      "Requirement already satisfied: smart-open<7.0.0,>=5.2.1 in c:\\users\\soham\\anaconda3\\lib\\site-packages (from spacy<3.6.0,>=3.5.0->en-core-web-lg==3.5.0) (6.3.0)\n",
      "Requirement already satisfied: catalogue<2.1.0,>=2.0.6 in c:\\users\\soham\\anaconda3\\lib\\site-packages (from spacy<3.6.0,>=3.5.0->en-core-web-lg==3.5.0) (2.0.8)\n",
      "Requirement already satisfied: pydantic!=1.8,!=1.8.1,<1.11.0,>=1.7.4 in c:\\users\\soham\\anaconda3\\lib\\site-packages (from spacy<3.6.0,>=3.5.0->en-core-web-lg==3.5.0) (1.10.9)\n",
      "Requirement already satisfied: preshed<3.1.0,>=3.0.2 in c:\\users\\soham\\anaconda3\\lib\\site-packages (from spacy<3.6.0,>=3.5.0->en-core-web-lg==3.5.0) (3.0.8)\n",
      "Requirement already satisfied: cymem<2.1.0,>=2.0.2 in c:\\users\\soham\\anaconda3\\lib\\site-packages (from spacy<3.6.0,>=3.5.0->en-core-web-lg==3.5.0) (2.0.7)\n",
      "Requirement already satisfied: tqdm<5.0.0,>=4.38.0 in c:\\users\\soham\\anaconda3\\lib\\site-packages (from spacy<3.6.0,>=3.5.0->en-core-web-lg==3.5.0) (4.64.0)\n",
      "Requirement already satisfied: typer<0.8.0,>=0.3.0 in c:\\users\\soham\\anaconda3\\lib\\site-packages (from spacy<3.6.0,>=3.5.0->en-core-web-lg==3.5.0) (0.7.0)\n",
      "Requirement already satisfied: srsly<3.0.0,>=2.4.3 in c:\\users\\soham\\anaconda3\\lib\\site-packages (from spacy<3.6.0,>=3.5.0->en-core-web-lg==3.5.0) (2.4.6)\n",
      "Requirement already satisfied: pathy>=0.10.0 in c:\\users\\soham\\anaconda3\\lib\\site-packages (from spacy<3.6.0,>=3.5.0->en-core-web-lg==3.5.0) (0.10.1)\n",
      "Requirement already satisfied: jinja2 in c:\\users\\soham\\anaconda3\\lib\\site-packages (from spacy<3.6.0,>=3.5.0->en-core-web-lg==3.5.0) (2.11.3)\n",
      "Requirement already satisfied: packaging>=20.0 in c:\\users\\soham\\anaconda3\\lib\\site-packages (from spacy<3.6.0,>=3.5.0->en-core-web-lg==3.5.0) (21.3)\n",
      "Requirement already satisfied: thinc<8.2.0,>=8.1.8 in c:\\users\\soham\\anaconda3\\lib\\site-packages (from spacy<3.6.0,>=3.5.0->en-core-web-lg==3.5.0) (8.1.10)\n",
      "Requirement already satisfied: numpy>=1.15.0 in c:\\users\\soham\\anaconda3\\lib\\site-packages (from spacy<3.6.0,>=3.5.0->en-core-web-lg==3.5.0) (1.21.5)\n",
      "Requirement already satisfied: wasabi<1.2.0,>=0.9.1 in c:\\users\\soham\\anaconda3\\lib\\site-packages (from spacy<3.6.0,>=3.5.0->en-core-web-lg==3.5.0) (1.1.2)\n",
      "Requirement already satisfied: spacy-loggers<2.0.0,>=1.0.0 in c:\\users\\soham\\anaconda3\\lib\\site-packages (from spacy<3.6.0,>=3.5.0->en-core-web-lg==3.5.0) (1.0.4)\n",
      "Requirement already satisfied: pyparsing!=3.0.5,>=2.0.2 in c:\\users\\soham\\anaconda3\\lib\\site-packages (from packaging>=20.0->spacy<3.6.0,>=3.5.0->en-core-web-lg==3.5.0) (3.0.4)\n",
      "Requirement already satisfied: typing-extensions>=4.2.0 in c:\\users\\soham\\anaconda3\\lib\\site-packages (from pydantic!=1.8,!=1.8.1,<1.11.0,>=1.7.4->spacy<3.6.0,>=3.5.0->en-core-web-lg==3.5.0) (4.6.3)\n",
      "Requirement already satisfied: charset-normalizer~=2.0.0 in c:\\users\\soham\\anaconda3\\lib\\site-packages (from requests<3.0.0,>=2.13.0->spacy<3.6.0,>=3.5.0->en-core-web-lg==3.5.0) (2.0.4)\n",
      "Requirement already satisfied: idna<4,>=2.5 in c:\\users\\soham\\anaconda3\\lib\\site-packages (from requests<3.0.0,>=2.13.0->spacy<3.6.0,>=3.5.0->en-core-web-lg==3.5.0) (3.3)\n",
      "Requirement already satisfied: certifi>=2017.4.17 in c:\\users\\soham\\anaconda3\\lib\\site-packages (from requests<3.0.0,>=2.13.0->spacy<3.6.0,>=3.5.0->en-core-web-lg==3.5.0) (2021.10.8)\n",
      "Requirement already satisfied: urllib3<1.27,>=1.21.1 in c:\\users\\soham\\anaconda3\\lib\\site-packages (from requests<3.0.0,>=2.13.0->spacy<3.6.0,>=3.5.0->en-core-web-lg==3.5.0) (1.26.9)\n",
      "Requirement already satisfied: blis<0.8.0,>=0.7.8 in c:\\users\\soham\\anaconda3\\lib\\site-packages (from thinc<8.2.0,>=8.1.8->spacy<3.6.0,>=3.5.0->en-core-web-lg==3.5.0) (0.7.9)\n",
      "Requirement already satisfied: confection<1.0.0,>=0.0.1 in c:\\users\\soham\\anaconda3\\lib\\site-packages (from thinc<8.2.0,>=8.1.8->spacy<3.6.0,>=3.5.0->en-core-web-lg==3.5.0) (0.0.4)\n",
      "Requirement already satisfied: colorama in c:\\users\\soham\\anaconda3\\lib\\site-packages (from tqdm<5.0.0,>=4.38.0->spacy<3.6.0,>=3.5.0->en-core-web-lg==3.5.0) (0.4.6)\n",
      "Requirement already satisfied: click<9.0.0,>=7.1.1 in c:\\users\\soham\\anaconda3\\lib\\site-packages (from typer<0.8.0,>=0.3.0->spacy<3.6.0,>=3.5.0->en-core-web-lg==3.5.0) (8.0.4)\n",
      "Requirement already satisfied: MarkupSafe>=0.23 in c:\\users\\soham\\anaconda3\\lib\\site-packages (from jinja2->spacy<3.6.0,>=3.5.0->en-core-web-lg==3.5.0) (2.0.1)\n",
      "\u001b[38;5;2m[+] Download and installation successful\u001b[0m\n",
      "You can now load the package via spacy.load('en_core_web_lg')\n"
     ]
    }
   ],
   "source": [
    "!python -m spacy download en_core_web_lg "
   ]
  },
  {
   "cell_type": "code",
   "execution_count": 4,
   "metadata": {},
   "outputs": [],
   "source": [
    "import re\n",
    "nlp = spacy.load(\"en_core_web_lg\")\n",
    "import gensim.downloader as api\n",
    "wv = api.load('glove-twitter-200')"
   ]
  },
  {
   "cell_type": "code",
   "execution_count": 5,
   "metadata": {
    "id": "hhGSQ87zarHy"
   },
   "outputs": [],
   "source": [
    "amazon = pd.read_csv('train.csv')"
   ]
  },
  {
   "cell_type": "code",
   "execution_count": 6,
   "metadata": {},
   "outputs": [
    {
     "data": {
      "image/png": "[encoded data removed]",
      "text/plain": [
       "<Figure size 720x432 with 2 Axes>"
      ]
     },
     "metadata": {
      "needs_background": "light"
     },
     "output_type": "display_data"
    }
   ],
   "source": [
    "plt.figure(figsize=(10, 6))\n",
    "sns.heatmap(amazon.isnull(), cmap = 'Blues')\n",
    "\n",
    "plt.title('Missing Values')\n",
    "plt.show()"
   ]
  },
  {
   "cell_type": "markdown",
   "metadata": {},
   "source": [
    "amazon_df = amazon.copy()"
   ]
  },
  {
   "cell_type": "markdown",
   "metadata": {},
   "source": [
    "amazon_df = amazon_df.sample(100)"
   ]
  },
  {
   "cell_type": "markdown",
   "metadata": {},
   "source": [
    "amazon_df = amazon_df.dropna()"
   ]
  },
  {
   "cell_type": "markdown",
   "metadata": {},
   "source": [
    "amazon_df.reset_index(drop= True, inplace = True)"
   ]
  },
  {
   "cell_type": "markdown",
   "metadata": {},
   "source": [
    "amazon_df = amazon_df.drop(columns = ['PRODUCT_ID','PRODUCT_TYPE_ID'])"
   ]
  },
  {
   "cell_type": "code",
   "execution_count": 7,
   "metadata": {},
   "outputs": [],
   "source": [
    "def preprocessing(text):\n",
    "    \n",
    "    text = text.lower()\n",
    "    text = re.sub(r'<[^>]*>', '', text)\n",
    "    text = re.sub(r'[^\\w+.]',' ', text)\n",
    "    text = text.strip()\n",
    "    text = re.sub(r'\\s{2,}', ' ', text)\n",
    "    \n",
    "    doc = nlp(text)\n",
    "    filtered_token = []\n",
    "    \n",
    "    for token in doc:\n",
    "        if token.is_punct or token.is_stop:\n",
    "          continue\n",
    "        filtered_token.append(token.lemma_)\n",
    "    \n",
    "    return(wv.vectors_for_all(filtered_token))"
   ]
  },
  {
   "cell_type": "code",
   "execution_count": 11,
   "metadata": {
    "scrolled": true
   },
   "outputs": [
    {
     "name": "stdout",
     "output_type": "stream",
     "text": [
      "Execution time for 0 to 10000: 606.1746759414673 seconds\n",
      "Execution time for 10000 to 20000: 283.8364055156708 seconds\n",
      "Execution time for 20000 to 30000: 274.66912865638733 seconds\n",
      "Execution time for 30000 to 40000: 274.6955578327179 seconds\n",
      "Execution time for 40000 to 50000: 287.3083038330078 seconds\n",
      "Execution time for 50000 to 60000: 283.3090522289276 seconds\n",
      "Execution time for 60000 to 70000: 283.554048538208 seconds\n",
      "Execution time for 70000 to 80000: 284.33242106437683 seconds\n",
      "Execution time for 80000 to 90000: 278.2636909484863 seconds\n",
      "Execution time for 90000 to 100000: 275.46163606643677 seconds\n",
      "Execution time for 100000 to 110000: 51047.51326727867 seconds\n",
      "Execution time for 110000 to 120000: 388.5432198047638 seconds\n",
      "Execution time for 120000 to 130000: 342.04045510292053 seconds\n",
      "Execution time for 130000 to 140000: 337.17444109916687 seconds\n",
      "Execution time for 140000 to 150000: 324.68990564346313 seconds\n",
      "Execution time for 150000 to 160000: 306.2640292644501 seconds\n",
      "Execution time for 160000 to 170000: 301.69605684280396 seconds\n",
      "Execution time for 170000 to 180000: 304.8979229927063 seconds\n",
      "Execution time for 180000 to 190000: 299.7012641429901 seconds\n",
      "Execution time for 190000 to 200000: 279.8508851528168 seconds\n",
      "Execution time for 200000 to 210000: 282.3228425979614 seconds\n",
      "Execution time for 210000 to 220000: 291.9561858177185 seconds\n",
      "Execution time for 220000 to 230000: 298.74366092681885 seconds\n",
      "Execution time for 230000 to 240000: 291.6646509170532 seconds\n",
      "Execution time for 240000 to 250000: 324.1616094112396 seconds\n",
      "Execution time for 250000 to 260000: 300.2444598674774 seconds\n",
      "Execution time for 260000 to 270000: 334.66721868515015 seconds\n",
      "Execution time for 270000 to 280000: 293.6373076438904 seconds\n",
      "Execution time for 280000 to 290000: 300.79547452926636 seconds\n",
      "Execution time for 290000 to 300000: 387.9322988986969 seconds\n",
      "Execution time for 300000 to 310000: 307.21523809432983 seconds\n",
      "Execution time for 310000 to 320000: 295.10864782333374 seconds\n",
      "Execution time for 320000 to 330000: 294.11250710487366 seconds\n",
      "Execution time for 330000 to 340000: 290.3389501571655 seconds\n",
      "Execution time for 340000 to 350000: 283.8621942996979 seconds\n",
      "Execution time for 350000 to 360000: 282.4330093860626 seconds\n",
      "Execution time for 360000 to 370000: 276.62052607536316 seconds\n",
      "Execution time for 370000 to 380000: 278.0953242778778 seconds\n",
      "Execution time for 380000 to 390000: 278.75167059898376 seconds\n",
      "Execution time for 390000 to 400000: 286.0539870262146 seconds\n",
      "Execution time for 400000 to 410000: 691.4938998222351 seconds\n",
      "Execution time for 410000 to 420000: 532.3227369785309 seconds\n",
      "Execution time for 420000 to 430000: 459.69509983062744 seconds\n",
      "Execution time for 430000 to 440000: 397.52959656715393 seconds\n",
      "Execution time for 440000 to 450000: 381.75728487968445 seconds\n",
      "Execution time for 450000 to 460000: 344.8143320083618 seconds\n",
      "Execution time for 460000 to 470000: 333.8266363143921 seconds\n",
      "Execution time for 470000 to 480000: 354.4115686416626 seconds\n",
      "Execution time for 480000 to 490000: 355.38488006591797 seconds\n",
      "Execution time for 490000 to 500000: 345.66779947280884 seconds\n",
      "Execution time for 500000 to 510000: 357.02074790000916 seconds\n",
      "Execution time for 510000 to 520000: 360.2499225139618 seconds\n",
      "Execution time for 520000 to 530000: 354.58535623550415 seconds\n",
      "Execution time for 530000 to 540000: 309.8320617675781 seconds\n",
      "Execution time for 540000 to 550000: 300.96957898139954 seconds\n",
      "Execution time for 550000 to 560000: 323.8265895843506 seconds\n",
      "Execution time for 560000 to 570000: 333.26496624946594 seconds\n",
      "Execution time for 570000 to 580000: 312.3695888519287 seconds\n",
      "Execution time for 580000 to 590000: 366.745148897171 seconds\n",
      "Execution time for 590000 to 600000: 381.685076713562 seconds\n",
      "Execution time for 600000 to 610000: 622.5788733959198 seconds\n",
      "Execution time for 610000 to 620000: 535.5623643398285 seconds\n",
      "Execution time for 620000 to 630000: 312.5578525066376 seconds\n",
      "Execution time for 630000 to 640000: 256.7062735557556 seconds\n",
      "Execution time for 640000 to 650000: 298.3344419002533 seconds\n",
      "Execution time for 650000 to 660000: 288.94752407073975 seconds\n",
      "Execution time for 660000 to 670000: 280.99568247795105 seconds\n",
      "Execution time for 670000 to 680000: 284.0668194293976 seconds\n",
      "Execution time for 680000 to 690000: 283.6364905834198 seconds\n",
      "Execution time for 690000 to 700000: 285.66731309890747 seconds\n",
      "Execution time for 700000 to 710000: 281.0711827278137 seconds\n",
      "Execution time for 710000 to 720000: 282.0846538543701 seconds\n",
      "Execution time for 720000 to 730000: 303.49060440063477 seconds\n",
      "Execution time for 730000 to 740000: 320.6204218864441 seconds\n",
      "Execution time for 740000 to 750000: 331.97518944740295 seconds\n",
      "Execution time for 750000 to 760000: 52141.551408052444 seconds\n",
      "Execution time for 760000 to 770000: 412.2044575214386 seconds\n",
      "Execution time for 770000 to 780000: 324.6986825466156 seconds\n",
      "Execution time for 780000 to 790000: 270.76888608932495 seconds\n",
      "Execution time for 790000 to 800000: 293.5292112827301 seconds\n",
      "Execution time for 800000 to 810000: 276.76670145988464 seconds\n",
      "Execution time for 810000 to 820000: 255.30443501472473 seconds\n",
      "Execution time for 820000 to 830000: 283.75171971321106 seconds\n",
      "Execution time for 830000 to 840000: 286.61152839660645 seconds\n",
      "Execution time for 840000 to 850000: 273.9821536540985 seconds\n",
      "Execution time for 850000 to 860000: 264.3847191333771 seconds\n",
      "Execution time for 860000 to 870000: 279.6795482635498 seconds\n",
      "Execution time for 870000 to 880000: 273.65147280693054 seconds\n",
      "Execution time for 880000 to 890000: 277.24761271476746 seconds\n",
      "Execution time for 890000 to 900000: 302.73279571533203 seconds\n",
      "Execution time for 900000 to 910000: 278.2415177822113 seconds\n",
      "Execution time for 910000 to 920000: 261.2339508533478 seconds\n",
      "Execution time for 920000 to 930000: 249.03039479255676 seconds\n",
      "Execution time for 930000 to 940000: 261.39672589302063 seconds\n",
      "Execution time for 940000 to 950000: 252.27394461631775 seconds\n",
      "Execution time for 950000 to 960000: 252.7676854133606 seconds\n",
      "Execution time for 960000 to 970000: 256.76558089256287 seconds\n",
      "Execution time for 970000 to 980000: 288.98283076286316 seconds\n",
      "Execution time for 980000 to 990000: 301.27131390571594 seconds\n",
      "Execution time for 990000 to 1000000: 279.1127579212189 seconds\n",
      "Execution time for 1000000 to 1010000: 276.8479883670807 seconds\n",
      "Execution time for 1010000 to 1020000: 265.9744334220886 seconds\n",
      "Execution time for 1020000 to 1030000: 266.49044466018677 seconds\n",
      "Execution time for 1030000 to 1040000: 263.1333682537079 seconds\n",
      "Execution time for 1040000 to 1050000: 273.3147118091583 seconds\n",
      "Execution time for 1050000 to 1060000: 281.02217507362366 seconds\n",
      "Execution time for 1060000 to 1070000: 273.66124510765076 seconds\n",
      "Execution time for 1070000 to 1080000: 269.72822308540344 seconds\n",
      "Execution time for 1080000 to 1090000: 285.1610481739044 seconds\n",
      "Execution time for 1090000 to 1100000: 262.79341650009155 seconds\n",
      "Execution time for 1100000 to 1110000: 284.03315258026123 seconds\n",
      "Execution time for 1110000 to 1120000: 310.5928957462311 seconds\n",
      "Execution time for 1120000 to 1130000: 277.8289132118225 seconds\n",
      "Execution time for 1130000 to 1140000: 453.98687720298767 seconds\n",
      "Execution time for 1140000 to 1150000: 524.9407067298889 seconds\n",
      "Execution time for 1150000 to 1160000: 495.9187469482422 seconds\n",
      "Execution time for 1160000 to 1170000: 340.5586156845093 seconds\n",
      "Execution time for 1170000 to 1180000: 318.35446286201477 seconds\n",
      "Execution time for 1180000 to 1190000: 271.4583349227905 seconds\n",
      "Execution time for 1190000 to 1200000: 268.488169670105 seconds\n",
      "Execution time for 1200000 to 1210000: 255.35311579704285 seconds\n",
      "Execution time for 1210000 to 1220000: 260.0587913990021 seconds\n",
      "Execution time for 1220000 to 1230000: 550.1335606575012 seconds\n",
      "Execution time for 1230000 to 1240000: 282.7610421180725 seconds\n",
      "Execution time for 1240000 to 1250000: 290.73727107048035 seconds\n",
      "Execution time for 1250000 to 1260000: 284.5216238498688 seconds\n",
      "Execution time for 1260000 to 1270000: 298.9039239883423 seconds\n",
      "Execution time for 1270000 to 1280000: 281.03672909736633 seconds\n",
      "Execution time for 1280000 to 1290000: 597.4251520633698 seconds\n",
      "Execution time for 1290000 to 1300000: 636.1117768287659 seconds\n",
      "Execution time for 1300000 to 1310000: 633.5232300758362 seconds\n",
      "Execution time for 1310000 to 1320000: 625.491863489151 seconds\n",
      "Execution time for 1320000 to 1330000: 612.581479549408 seconds\n",
      "Execution time for 1330000 to 1340000: 632.0797200202942 seconds\n",
      "Execution time for 1340000 to 1350000: 635.865359544754 seconds\n",
      "Execution time for 1350000 to 1360000: 652.0469281673431 seconds\n",
      "Execution time for 1360000 to 1370000: 651.1078841686249 seconds\n",
      "Execution time for 1370000 to 1380000: 482.73270535469055 seconds\n",
      "Execution time for 1380000 to 1390000: 11089.913482189178 seconds\n",
      "Execution time for 1390000 to 1400000: 632.592934846878 seconds\n",
      "Execution time for 1400000 to 1410000: 642.2832374572754 seconds\n",
      "Execution time for 1410000 to 1420000: 625.4812936782837 seconds\n",
      "Execution time for 1420000 to 1430000: 333.17647528648376 seconds\n",
      "Execution time for 1430000 to 1440000: 1598.9911041259766 seconds\n",
      "Execution time for 1440000 to 1450000: 285.74244236946106 seconds\n",
      "Execution time for 1450000 to 1460000: 287.2182230949402 seconds\n",
      "Execution time for 1460000 to 1470000: 286.92283034324646 seconds\n",
      "Execution time for 1470000 to 1480000: 283.3260898590088 seconds\n",
      "Execution time for 1480000 to 1490000: 285.6341915130615 seconds\n",
      "Execution time for 1490000 to 1500000: 285.68309354782104 seconds\n",
      "Execution time for 1500000 to 1510000: 283.0481789112091 seconds\n",
      "Execution time for 1510000 to 1520000: 291.67765188217163 seconds\n",
      "Execution time for 1520000 to 1530000: 285.420743227005 seconds\n",
      "Execution time for 1530000 to 1540000: 281.0048987865448 seconds\n",
      "Execution time for 1540000 to 1550000: 42480.376371860504 seconds\n",
      "Execution time for 1550000 to 1560000: 727.2574422359467 seconds\n",
      "Execution time for 1560000 to 1570000: 680.5712716579437 seconds\n",
      "Execution time for 1570000 to 1580000: 622.1952383518219 seconds\n",
      "Execution time for 1580000 to 1590000: 666.6947605609894 seconds\n",
      "Execution time for 1590000 to 1600000: 680.5627112388611 seconds\n",
      "Execution time for 1600000 to 1610000: 673.3680160045624 seconds\n",
      "Execution time for 1610000 to 1620000: 698.5366544723511 seconds\n",
      "Execution time for 1620000 to 1630000: 698.7736251354218 seconds\n",
      "Execution time for 1630000 to 1640000: 693.2643961906433 seconds\n",
      "Execution time for 1640000 to 1650000: 698.564653635025 seconds\n",
      "Execution time for 1650000 to 1660000: 703.0444843769073 seconds\n",
      "Execution time for 1660000 to 1670000: 677.561674118042 seconds\n",
      "Execution time for 1670000 to 1680000: 780.9855320453644 seconds\n",
      "Execution time for 1680000 to 1690000: 684.6939287185669 seconds\n",
      "Execution time for 1690000 to 1700000: 730.8857171535492 seconds\n",
      "Execution time for 1700000 to 1710000: 699.3677642345428 seconds\n",
      "Execution time for 1710000 to 1720000: 685.8896236419678 seconds\n",
      "Execution time for 1720000 to 1730000: 698.1434841156006 seconds\n",
      "Execution time for 1730000 to 1740000: 718.7937304973602 seconds\n",
      "Execution time for 1740000 to 1750000: 737.7105271816254 seconds\n",
      "Execution time for 1750000 to 1760000: 741.9683787822723 seconds\n",
      "Execution time for 1760000 to 1770000: 658.9919753074646 seconds\n",
      "Execution time for 1770000 to 1780000: 515.4513692855835 seconds\n",
      "Execution time for 1780000 to 1790000: 323.9538104534149 seconds\n",
      "Execution time for 1790000 to 1800000: 310.5529034137726 seconds\n",
      "Execution time for 1800000 to 1810000: 314.40339374542236 seconds\n",
      "Execution time for 1810000 to 1820000: 308.5871081352234 seconds\n",
      "Execution time for 1820000 to 1830000: 319.05589270591736 seconds\n",
      "Execution time for 1830000 to 1840000: 526.0407319068909 seconds\n",
      "Execution time for 1840000 to 1850000: 690.250522851944 seconds\n",
      "Execution time for 1850000 to 1860000: 653.1375360488892 seconds\n",
      "Execution time for 1860000 to 1870000: 638.9178092479706 seconds\n",
      "Execution time for 1870000 to 1880000: 335.5090482234955 seconds\n",
      "Execution time for 1880000 to 1890000: 349.3566701412201 seconds\n",
      "Execution time for 1890000 to 1900000: 340.8746917247772 seconds\n",
      "Execution time for 1900000 to 1910000: 338.8316297531128 seconds\n",
      "Execution time for 1910000 to 1920000: 345.0697023868561 seconds\n",
      "Execution time for 1920000 to 1930000: 331.8763084411621 seconds\n",
      "Execution time for 1930000 to 1940000: 334.11542439460754 seconds\n",
      "Execution time for 1940000 to 1950000: 417.6531193256378 seconds\n",
      "Execution time for 1950000 to 1960000: 415.92261385917664 seconds\n",
      "Execution time for 1960000 to 1970000: 407.1129512786865 seconds\n",
      "Execution time for 1970000 to 1980000: 325.0923252105713 seconds\n",
      "Execution time for 1980000 to 1990000: 307.7119519710541 seconds\n",
      "Execution time for 1990000 to 2000000: 266.32971262931824 seconds\n",
      "Execution time for 2000000 to 2010000: 270.1961007118225 seconds\n",
      "Execution time for 2010000 to 2020000: 268.882511138916 seconds\n",
      "Execution time for 2020000 to 2030000: 287.816645860672 seconds\n",
      "Execution time for 2030000 to 2040000: 301.310672044754 seconds\n",
      "Execution time for 2040000 to 2050000: 318.596647977829 seconds\n",
      "Execution time for 2050000 to 2060000: 319.94188928604126 seconds\n",
      "Execution time for 2060000 to 2070000: 272.5990970134735 seconds\n",
      "Execution time for 2070000 to 2080000: 265.2216970920563 seconds\n",
      "Execution time for 2080000 to 2090000: 261.82318329811096 seconds\n",
      "Execution time for 2090000 to 2100000: 273.0090129375458 seconds\n",
      "Execution time for 2100000 to 2110000: 3975.5602147579193 seconds\n",
      "Execution time for 2110000 to 2120000: 285.9753119945526 seconds\n",
      "Execution time for 2120000 to 2130000: 288.48191261291504 seconds\n",
      "Execution time for 2130000 to 2140000: 5647.812549829483 seconds\n",
      "Execution time for 2140000 to 2150000: 291.16199827194214 seconds\n",
      "Execution time for 2150000 to 2160000: 928.697879076004 seconds\n",
      "Execution time for 2160000 to 2170000: 773.6574487686157 seconds\n",
      "Execution time for 2170000 to 2180000: 783.8945074081421 seconds\n",
      "Execution time for 2180000 to 2190000: 669.5172507762909 seconds\n",
      "Execution time for 2190000 to 2200000: 306.8520390987396 seconds\n",
      "Execution time for 2200000 to 2210000: 282.61485719680786 seconds\n",
      "Execution time for 2210000 to 2220000: 276.02911925315857 seconds\n",
      "Execution time for 2220000 to 2230000: 275.05193972587585 seconds\n",
      "Execution time for 2230000 to 2240000: 285.7341709136963 seconds\n",
      "Execution time for 2240000 to 2250000: 269.48591208457947 seconds\n"
     ]
    }
   ],
   "source": [
    "for i in range(0, len(amazon), 10000):\n",
    "    start_time = time.time()\n",
    "    amazon_df = amazon.copy()\n",
    "    amazon_df = amazon_df[i:i+10000]\n",
    "    amazon_df = amazon_df.dropna()\n",
    "    amazon_df.reset_index(drop= True, inplace = True)\n",
    "    amazon_df = amazon_df.drop(columns = ['PRODUCT_ID','PRODUCT_TYPE_ID'])\n",
    "    for j in range(3):\n",
    "        amazon_df.iloc[:,j] = amazon_df.iloc[:,j].apply(lambda x: preprocessing(x))\n",
    "    amazon_df_len = amazon_df.copy()\n",
    "    for k in range(3):\n",
    "        amazon_df_len.iloc[:,k] = amazon_df.iloc[:,k].apply(lambda x: len(x))\n",
    "    amazon_df = amazon_df[amazon_df_len != 0].dropna()\n",
    "    for l in range(3):\n",
    "        amazon_df.iloc[:,l] = amazon_df.iloc[:,l].apply(lambda x: x[0])\n",
    "    file_name = 'amazon_df_csvs' + '/' + 'amazon_df' + str(i) + '.csv'\n",
    "    amazon_df.to_csv(file_name)\n",
    "    end_time = time.time()\n",
    "    execution_time = end_time - start_time\n",
    "    print(f\"Execution time for {i} to {i+10000}: {execution_time} seconds\")"
   ]
  },
  {
   "cell_type": "markdown",
   "metadata": {},
   "source": [
    "import time\n",
    "\n",
    "start_time = time.time()\n",
    "\n",
    "for i in range(3):\n",
    "    amazon_df.iloc[:, i] = amazon_df.iloc[:, i].apply(lambda x: preprocessing(x))\n",
    "\n",
    "end_time = time.time()\n",
    "execution_time = end_time - start_time\n",
    "\n",
    "print(f\"Execution time: {execution_time} seconds\")"
   ]
  },
  {
   "cell_type": "code",
   "execution_count": 118,
   "metadata": {},
   "outputs": [],
   "source": [
    "amazon_df_len = amazon_df.copy()\n",
    "for i in range(3):\n",
    "    amazon_df_len.iloc[:,i] = amazon_df.iloc[:,i].apply(lambda x: len(x))"
   ]
  },
  {
   "cell_type": "code",
   "execution_count": 119,
   "metadata": {},
   "outputs": [],
   "source": [
    "amazon_df = amazon_df[amazon_df_len != 0].dropna()"
   ]
  },
  {
   "cell_type": "code",
   "execution_count": 120,
   "metadata": {},
   "outputs": [],
   "source": [
    "for i in range(3):\n",
    "    amazon_df.iloc[:,i] = amazon_df.iloc[:,i].apply(lambda x: x[0])"
   ]
  },
  {
   "cell_type": "code",
   "execution_count": 1,
   "metadata": {},
   "outputs": [
    {
     "ename": "NameError",
     "evalue": "name 'amazon_df' is not defined",
     "output_type": "error",
     "traceback": [
      "\u001b[1;31m---------------------------------------------------------------------------\u001b[0m",
      "\u001b[1;31mNameError\u001b[0m                                 Traceback (most recent call last)",
      "Input \u001b[1;32mIn [1]\u001b[0m, in \u001b[0;36m<cell line: 1>\u001b[1;34m()\u001b[0m\n\u001b[1;32m----> 1\u001b[0m \u001b[43mamazon_df\u001b[49m\u001b[38;5;241m.\u001b[39mhead()\n",
      "\u001b[1;31mNameError\u001b[0m: name 'amazon_df' is not defined"
     ]
    }
   ],
   "source": [
    "amazon_df.head()"
   ]
  },
  {
   "cell_type": "code",
   "execution_count": 54,
   "metadata": {},
   "outputs": [
    {
     "data": {
      "image/png": "[encoded data removed]",
      "text/plain": [
       "<Figure size 720x288 with 2 Axes>"
      ]
     },
     "metadata": {
      "needs_background": "light"
     },
     "output_type": "display_data"
    }
   ],
   "source": [
    "import matplotlib.pyplot as plt\n",
    "import seaborn as sns\n",
    "\n",
    "# Create a figure with two subplots\n",
    "fig, axes = plt.subplots(nrows=1, ncols=2, figsize=(10, 4))\n",
    "\n",
    "# Plot the distribution plot in the first subplot\n",
    "plt.subplot(1, 2, 1)\n",
    "sns.distplot(amazon_df['PRODUCT_LENGTH'], bins=100)\n",
    "plt.xlabel('Product Length')\n",
    "plt.ylabel('Density')\n",
    "plt.title('Distribution of Product Length')\n",
    "plt.xticks(rotation = 90)\n",
    "\n",
    "# Plot the line plot in the second subplot\n",
    "plt.subplot(1, 2, 2)\n",
    "plt.plot(amazon_df['PRODUCT_LENGTH'])\n",
    "plt.xlabel('Index')\n",
    "plt.ylabel('Product Length')\n",
    "plt.title('Product Length over Index')\n",
    "\n",
    "# Adjust the spacing between subplots\n",
    "plt.tight_layout()\n",
    "\n",
    "# Display the plots\n",
    "plt.show()"
   ]
  },
  {
   "cell_type": "code",
   "execution_count": 55,
   "metadata": {},
   "outputs": [],
   "source": [
    "from sklearn.model_selection import train_test_split\n",
    "from sklearn.ensemble import RandomForestRegressor\n",
    "from sklearn.linear_model import LinearRegression\n",
    "from sklearn.pipeline import Pipeline"
   ]
  },
  {
   "cell_type": "code",
   "execution_count": 56,
   "metadata": {},
   "outputs": [],
   "source": [
    "X = amazon_df.drop(columns = ['PRODUCT_LENGTH'])\n",
    "Y = amazon_df.PRODUCT_LENGTH"
   ]
  },
  {
   "cell_type": "code",
   "execution_count": 57,
   "metadata": {},
   "outputs": [],
   "source": [
    "X_train, X_test, Y_train, Y_test = train_test_split(X, Y, test_size= 0.2, random_state = 2)"
   ]
  },
  {
   "cell_type": "code",
   "execution_count": 58,
   "metadata": {},
   "outputs": [],
   "source": [
    "reg = Pipeline([\n",
    "    \n",
    "    ('Linear Reg' , LinearRegression())\n",
    "    \n",
    "])"
   ]
  },
  {
   "cell_type": "code",
   "execution_count": 59,
   "metadata": {},
   "outputs": [
    {
     "data": {
      "text/plain": [
       "Pipeline(steps=[('Linear Reg', LinearRegression())])"
      ]
     },
     "execution_count": 59,
     "metadata": {},
     "output_type": "execute_result"
    }
   ],
   "source": [
    "reg.fit(np.stack(X_train.values.flatten()).reshape(len(X_train),-1), Y_train.values)"
   ]
  },
  {
   "cell_type": "code",
   "execution_count": 60,
   "metadata": {},
   "outputs": [],
   "source": [
    "Y_pred = reg.predict(np.stack(X_test.values.flatten()).reshape(len(X_test), -1))"
   ]
  },
  {
   "cell_type": "code",
   "execution_count": 61,
   "metadata": {},
   "outputs": [
    {
     "data": {
      "image/png": "[encoded data removed]",
      "text/plain": [
       "<Figure size 432x288 with 1 Axes>"
      ]
     },
     "metadata": {
      "needs_background": "light"
     },
     "output_type": "display_data"
    }
   ],
   "source": [
    "import matplotlib.pyplot as plt\n",
    "\n",
    "# Plotting the predicted values\n",
    "plt.scatter(abs(Y_pred), Y_test, c='red', label='Predicted')\n",
    "\n",
    "# Plotting the actual values\n",
    "plt.scatter(Y_test, Y_test, c='blue', label='Actual')\n",
    "\n",
    "plt.xlabel('Predicted Values')\n",
    "plt.ylabel('Actual Values')\n",
    "plt.legend()\n",
    "plt.show()"
   ]
  },
  {
   "cell_type": "code",
   "execution_count": 62,
   "metadata": {},
   "outputs": [
    {
     "data": {
      "text/plain": [
       "(25.563709133193665, 188231619.69992805)"
      ]
     },
     "execution_count": 62,
     "metadata": {},
     "output_type": "execute_result"
    }
   ],
   "source": [
    "from sklearn.metrics import mean_absolute_percentage_error\n",
    "from sklearn.metrics import mean_squared_error\n",
    "\n",
    "\n",
    "mape = mean_absolute_percentage_error(Y_test,abs(Y_pred))\n",
    "mse = mean_squared_error(Y_test,abs(Y_pred))\n",
    "\n",
    "mape, mse"
   ]
  }
 ],
 "metadata": {
  "colab": {
   "provenance": []
  },
  "kernelspec": {
   "display_name": "Python 3 (ipykernel)",
   "language": "python",
   "name": "python3"
  },
  "language_info": {
   "codemirror_mode": {
    "name": "ipython",
    "version": 3
   },
   "file_extension": ".py",
   "mimetype": "text/x-python",
   "name": "python",
   "nbconvert_exporter": "python",
   "pygments_lexer": "ipython3",
   "version": "3.9.12"
  }
 },
 "nbformat": 4,
 "nbformat_minor": 1
}
