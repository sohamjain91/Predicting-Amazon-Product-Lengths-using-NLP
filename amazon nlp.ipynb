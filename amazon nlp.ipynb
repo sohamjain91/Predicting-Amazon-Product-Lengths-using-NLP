{
 "cells": [
  {
   "cell_type": "code",
   "execution_count": 2,
   "id": "58a0d99e",
   "metadata": {},
   "outputs": [
    {
     "name": "stderr",
     "output_type": "stream",
     "text": [
      "C:\\Users\\soham\\anaconda3\\lib\\site-packages\\scipy\\__init__.py:146: UserWarning:\n",
      "\n",
      "A NumPy version >=1.16.5 and <1.23.0 is required for this version of SciPy (detected version 1.25.0\n",
      "\n"
     ]
    },
    {
     "data": {
      "text/html": [
       "        <script type=\"text/javascript\">\n",
       "        window.PlotlyConfig = {MathJaxConfig: 'local'};\n",
       "        if (window.MathJax) {MathJax.Hub.Config({SVG: {font: \"STIX-Web\"}});}\n",
       "        if (typeof require !== 'undefined') {\n",
       "        require.undef(\"plotly\");\n",
       "        requirejs.config({\n",
       "            paths: {\n",
       "                'plotly': ['https://cdn.plot.ly/plotly-2.9.0.min']\n",
       "            }\n",
       "        });\n",
       "        require(['plotly'], function(Plotly) {\n",
       "            window._Plotly = Plotly;\n",
       "        });\n",
       "        }\n",
       "        </script>\n",
       "        "
      ]
     },
     "metadata": {},
     "output_type": "display_data"
    },
    {
     "data": {
      "text/html": [
       "        <script type=\"text/javascript\">\n",
       "        window.PlotlyConfig = {MathJaxConfig: 'local'};\n",
       "        if (window.MathJax) {MathJax.Hub.Config({SVG: {font: \"STIX-Web\"}});}\n",
       "        if (typeof require !== 'undefined') {\n",
       "        require.undef(\"plotly\");\n",
       "        requirejs.config({\n",
       "            paths: {\n",
       "                'plotly': ['https://cdn.plot.ly/plotly-2.9.0.min']\n",
       "            }\n",
       "        });\n",
       "        require(['plotly'], function(Plotly) {\n",
       "            window._Plotly = Plotly;\n",
       "        });\n",
       "        }\n",
       "        </script>\n",
       "        "
      ]
     },
     "metadata": {},
     "output_type": "display_data"
    }
   ],
   "source": [
    "import pandas as pd\n",
    "import numpy as np\n",
    "import ast\n",
    "import os\n",
    "import matplotlib.pyplot as plt\n",
    "%matplotlib inline\n",
    "import plotly\n",
    "import cufflinks as cf\n",
    "from plotly.offline import download_plotlyjs, init_notebook_mode, plot, iplot\n",
    "init_notebook_mode(connected = True)\n",
    "cf.go_offline()"
   ]
  },
  {
   "cell_type": "code",
   "execution_count": null,
   "id": "9b9d61d7",
   "metadata": {},
   "outputs": [],
   "source": [
    "pip install plotly cufflinks mplcursors ipympl"
   ]
  },
  {
   "cell_type": "code",
   "execution_count": 54,
   "id": "a0f0b1fc",
   "metadata": {},
   "outputs": [],
   "source": [
    "df_name = []\n",
    "for i in range(len(os.listdir(\"amazon_df_csvs\"))):\n",
    "    names = f'amazon_df{i}'\n",
    "    df_name.append(names)"
   ]
  },
  {
   "cell_type": "code",
   "execution_count": 55,
   "id": "294a5f2d",
   "metadata": {},
   "outputs": [
    {
     "data": {
      "text/plain": [
       "225"
      ]
     },
     "execution_count": 55,
     "metadata": {},
     "output_type": "execute_result"
    }
   ],
   "source": [
    "len(df_name)"
   ]
  },
  {
   "cell_type": "code",
   "execution_count": 56,
   "id": "a58b6f45",
   "metadata": {},
   "outputs": [],
   "source": [
    "all_dataset = []\n",
    "for i in range(len(os.listdir(\"amazon_df_csvs\"))):\n",
    "    file_location = 'amazon_df_csvs' + '/' + os.listdir(\"amazon_df_csvs\")[i]\n",
    "    df_name[i] = pd.read_csv(file_location, index_col=0)\n",
    "    all_dataset.append(df_name[i])\n",
    "    break"
   ]
  },
  {
   "cell_type": "code",
   "execution_count": 57,
   "id": "cd04a060",
   "metadata": {},
   "outputs": [],
   "source": [
    "amazon_df = pd.concat(all_dataset)\n",
    "amazon_df = amazon_df.reset_index(drop =True)"
   ]
  },
  {
   "cell_type": "code",
   "execution_count": 58,
   "id": "e1a055e0",
   "metadata": {},
   "outputs": [],
   "source": [
    "def preprocessing(string):\n",
    "    \n",
    "    string = string.replace('\\n', '')\n",
    "\n",
    "    string = string.strip('[]')\n",
    "    numbers = string.split()\n",
    "\n",
    "    my_list = [float(num) for num in numbers]\n",
    "    \n",
    "    return(my_list)"
   ]
  },
  {
   "cell_type": "code",
   "execution_count": 59,
   "id": "26c802cb",
   "metadata": {},
   "outputs": [],
   "source": [
    "for i in range(3):\n",
    "    amazon_df.iloc[:,i] = amazon_df.iloc[:,i].apply(lambda x: preprocessing(x))"
   ]
  },
  {
   "cell_type": "code",
   "execution_count": 60,
   "id": "cd58aa03",
   "metadata": {},
   "outputs": [],
   "source": [
    "from sklearn.model_selection import train_test_split\n",
    "from sklearn.ensemble import RandomForestRegressor\n",
    "from sklearn.linear_model import LinearRegression\n",
    "from sklearn.pipeline import Pipeline"
   ]
  },
  {
   "cell_type": "code",
   "execution_count": 61,
   "id": "c0c11423",
   "metadata": {},
   "outputs": [],
   "source": [
    "amazon_df = amazon_df.sample(n=500)"
   ]
  },
  {
   "cell_type": "code",
   "execution_count": 62,
   "id": "e6fe224b",
   "metadata": {},
   "outputs": [],
   "source": [
    "X = amazon_df.drop(columns = ['PRODUCT_LENGTH'])\n",
    "Y = amazon_df.PRODUCT_LENGTH"
   ]
  },
  {
   "cell_type": "code",
   "execution_count": 63,
   "id": "f5e380ba",
   "metadata": {},
   "outputs": [],
   "source": [
    "X_train, X_test, Y_train, Y_test = train_test_split(X, Y, test_size= 0.2, random_state = 2)"
   ]
  },
  {
   "cell_type": "code",
   "execution_count": 64,
   "id": "4dfc3dc8",
   "metadata": {},
   "outputs": [],
   "source": [
    "reg = Pipeline([\n",
    "    ('Linear Reg' , LinearRegression())\n",
    "])"
   ]
  },
  {
   "cell_type": "code",
   "execution_count": 65,
   "id": "fa1127b3",
   "metadata": {},
   "outputs": [
    {
     "data": {
      "text/plain": [
       "Pipeline(steps=[('Linear Reg', LinearRegression())])"
      ]
     },
     "execution_count": 65,
     "metadata": {},
     "output_type": "execute_result"
    }
   ],
   "source": [
    "reg.fit(np.stack(X_train.values.flatten()).reshape(len(X_train),-1), Y_train.values)"
   ]
  },
  {
   "cell_type": "code",
   "execution_count": 66,
   "id": "d467bd70",
   "metadata": {},
   "outputs": [],
   "source": [
    "Y_pred = reg.predict(np.stack(X_test.values.flatten()).reshape(len(X_test), -1))"
   ]
  },
  {
   "cell_type": "code",
   "execution_count": 67,
   "id": "c6d0a107",
   "metadata": {},
   "outputs": [
    {
     "data": {
      "image/png": "[encoded data removed]",
      "text/plain": [
       "<Figure size 432x288 with 1 Axes>"
      ]
     },
     "metadata": {
      "needs_background": "light"
     },
     "output_type": "display_data"
    }
   ],
   "source": [
    "# Plotting the predicted values\n",
    "plt.scatter(abs(Y_pred), Y_test, c='red', label='Predicted')\n",
    "\n",
    "# Plotting the actual values\n",
    "plt.scatter(Y_test, Y_test, c='blue', label='Actual')\n",
    "\n",
    "plt.xlabel('Predicted Values')\n",
    "plt.ylabel('Actual Values')\n",
    "plt.legend()\n",
    "plt.show()"
   ]
  },
  {
   "cell_type": "code",
   "execution_count": null,
   "id": "2d8be2ce",
   "metadata": {},
   "outputs": [],
   "source": []
  },
  {
   "cell_type": "code",
   "execution_count": 154,
   "id": "1f851b49",
   "metadata": {},
   "outputs": [
    {
     "name": "stdout",
     "output_type": "stream",
     "text": [
      "Mean Absolute Percentage Error  0.4785999999999999\n",
      "Mean Square Error  85784670.48944399\n"
     ]
    }
   ],
   "source": [
    "from sklearn.metrics import mean_absolute_percentage_error\n",
    "from sklearn.metrics import mean_squared_error\n",
    "\n",
    "\n",
    "mape = mean_absolute_percentage_error(graph['True'],graph['predicted'])\n",
    "mse = mean_squared_error(graph['True'],graph['predicted'])\n",
    "\n",
    "print('Mean Absolute Percentage Error ',mape)\n",
    "print('Mean Square Error ',mse)"
   ]
  },
  {
   "cell_type": "code",
   "execution_count": 150,
   "id": "47ce227d",
   "metadata": {},
   "outputs": [
    {
     "data": {
      "image/png": "[encoded data removed]",
      "text/plain": [
       "<Figure size 432x288 with 1 Axes>"
      ]
     },
     "metadata": {
      "needs_background": "light"
     },
     "output_type": "display_data"
    }
   ],
   "source": [
    "# Plotting the predicted values\n",
    "plt.scatter(graph['predicted'], graph['True'], c='red', label='Predicted')\n",
    "\n",
    "# Plotting the actual values\n",
    "plt.scatter(graph['True'], graph['True'], c='blue', label='Actual')\n",
    "\n",
    "plt.xlabel('Predicted Values')\n",
    "plt.ylabel('Actual Values')\n",
    "plt.legend()\n",
    "plt.show()"
   ]
  }
 ],
 "metadata": {
  "kernelspec": {
   "display_name": "Python 3 (ipykernel)",
   "language": "python",
   "name": "python3"
  },
  "language_info": {
   "codemirror_mode": {
    "name": "ipython",
    "version": 3
   },
   "file_extension": ".py",
   "mimetype": "text/x-python",
   "name": "python",
   "nbconvert_exporter": "python",
   "pygments_lexer": "ipython3",
   "version": "3.9.12"
  }
 },
 "nbformat": 4,
 "nbformat_minor": 5
}
